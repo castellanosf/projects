{
 "cells": [
  {
   "cell_type": "markdown",
   "id": "d182266b",
   "metadata": {},
   "source": [
    "# <center> Answering Business Questions Using SQL </center>"
   ]
  },
  {
   "cell_type": "markdown",
   "id": "b7b0a604",
   "metadata": {},
   "source": [
    "This project utilizes SQL in order to answer business questions.  We will be examining the Chinook database, which is provided as a SQLite database file called `chinook.db`. It contains information about a fictional digital music shop, the Chinook record store, which is similar to a mini -iTunes store.  The store carries music from around the world and various genres.  We will explore a variety of scenerios in order to maximize profit.   "
   ]
  },
  {
   "cell_type": "markdown",
   "id": "af2ef0e8",
   "metadata": {},
   "source": [
    "## Overview of the Data"
   ]
  },
  {
   "cell_type": "markdown",
   "id": "9535f2fc",
   "metadata": {},
   "source": [
    "The Chinook database contains information about the artists, songs, and albums from the music shop, as well as the shop's employees, customers, and the customers' purchases.  All of this is contained in eleven tables.  Let's list all of the tables to view them:    "
   ]
  },
  {
   "cell_type": "code",
   "execution_count": 1,
   "id": "5f26884a",
   "metadata": {},
   "outputs": [],
   "source": [
    "%%capture\n",
    "%load_ext sql\n",
    "%sql sqlite:///chinook.db"
   ]
  },
  {
   "cell_type": "code",
   "execution_count": 2,
   "id": "e08f86da",
   "metadata": {},
   "outputs": [
    {
     "name": "stdout",
     "output_type": "stream",
     "text": [
      " * sqlite:///chinook.db\n",
      "Done.\n"
     ]
    },
    {
     "data": {
      "text/html": [
       "<table>\n",
       "    <thead>\n",
       "        <tr>\n",
       "            <th>name</th>\n",
       "            <th>type</th>\n",
       "        </tr>\n",
       "    </thead>\n",
       "    <tbody>\n",
       "        <tr>\n",
       "            <td>album</td>\n",
       "            <td>table</td>\n",
       "        </tr>\n",
       "        <tr>\n",
       "            <td>artist</td>\n",
       "            <td>table</td>\n",
       "        </tr>\n",
       "        <tr>\n",
       "            <td>customer</td>\n",
       "            <td>table</td>\n",
       "        </tr>\n",
       "        <tr>\n",
       "            <td>employee</td>\n",
       "            <td>table</td>\n",
       "        </tr>\n",
       "        <tr>\n",
       "            <td>genre</td>\n",
       "            <td>table</td>\n",
       "        </tr>\n",
       "        <tr>\n",
       "            <td>invoice</td>\n",
       "            <td>table</td>\n",
       "        </tr>\n",
       "        <tr>\n",
       "            <td>invoice_line</td>\n",
       "            <td>table</td>\n",
       "        </tr>\n",
       "        <tr>\n",
       "            <td>media_type</td>\n",
       "            <td>table</td>\n",
       "        </tr>\n",
       "        <tr>\n",
       "            <td>playlist</td>\n",
       "            <td>table</td>\n",
       "        </tr>\n",
       "        <tr>\n",
       "            <td>playlist_track</td>\n",
       "            <td>table</td>\n",
       "        </tr>\n",
       "        <tr>\n",
       "            <td>track</td>\n",
       "            <td>table</td>\n",
       "        </tr>\n",
       "    </tbody>\n",
       "</table>"
      ],
      "text/plain": [
       "[('album', 'table'),\n",
       " ('artist', 'table'),\n",
       " ('customer', 'table'),\n",
       " ('employee', 'table'),\n",
       " ('genre', 'table'),\n",
       " ('invoice', 'table'),\n",
       " ('invoice_line', 'table'),\n",
       " ('media_type', 'table'),\n",
       " ('playlist', 'table'),\n",
       " ('playlist_track', 'table'),\n",
       " ('track', 'table')]"
      ]
     },
     "execution_count": 2,
     "metadata": {},
     "output_type": "execute_result"
    }
   ],
   "source": [
    "%%sql\n",
    "\n",
    "SELECT \n",
    "     name,\n",
    "     type\n",
    "FROM sqlite_master\n",
    "WHERE type IN ('table', 'view');"
   ]
  },
  {
   "cell_type": "markdown",
   "id": "73194f2b",
   "metadata": {},
   "source": [
    "# Most Popular Genres"
   ]
  },
  {
   "cell_type": "markdown",
   "id": "7b1cf006",
   "metadata": {},
   "source": [
    "The Chinook record store has just signed a deal with a new record label, so we need to select the first three albums that will be added to the store from a list of four.  We have the artist names and genre of music they produce:\n",
    "* Regal- Hip-Hop\n",
    "* Red Tone- Punk\n",
    "* Meteor and the Girls- Pop\n",
    "* Slim Jim Bites- Blues\n",
    "\n",
    "The record label specializes in artists from the USA and have given Chinook some money to advertise the new albums in the USA, so we are interested in finding out which genres will sell the most in the USA.  \n",
    "\n",
    "Let's commence by determining the number of tracks sold in the USA."
   ]
  },
  {
   "cell_type": "code",
   "execution_count": 3,
   "id": "4d5e7e13",
   "metadata": {},
   "outputs": [
    {
     "name": "stdout",
     "output_type": "stream",
     "text": [
      " * sqlite:///chinook.db\n",
      "Done.\n"
     ]
    },
    {
     "data": {
      "text/html": [
       "<table>\n",
       "    <thead>\n",
       "        <tr>\n",
       "            <th>SUM(quantity)</th>\n",
       "        </tr>\n",
       "    </thead>\n",
       "    <tbody>\n",
       "        <tr>\n",
       "            <td>1051</td>\n",
       "        </tr>\n",
       "    </tbody>\n",
       "</table>"
      ],
      "text/plain": [
       "[(1051,)]"
      ]
     },
     "execution_count": 3,
     "metadata": {},
     "output_type": "execute_result"
    }
   ],
   "source": [
    "%%sql\n",
    "\n",
    "WITH customer_quantity AS\n",
    "    (\n",
    "    SELECT *\n",
    "    FROM customer c\n",
    "    INNER JOIN invoice i ON c.customer_id = i.customer_id\n",
    "    INNER JOIN invoice_line il ON i.invoice_id = il.invoice_id\n",
    "    WHERE c.country = 'USA'\n",
    "    )\n",
    "    \n",
    "SELECT SUM(quantity)\n",
    "    FROM customer_quantity;"
   ]
  },
  {
   "cell_type": "markdown",
   "id": "c571d74d",
   "metadata": {},
   "source": [
    "Next, we will determine the number of tracks sold in the USA in absolute numbers and in percentages based on genre."
   ]
  },
  {
   "cell_type": "code",
   "execution_count": 4,
   "id": "024bb1f3",
   "metadata": {},
   "outputs": [
    {
     "name": "stdout",
     "output_type": "stream",
     "text": [
      " * sqlite:///chinook.db\n",
      "Done.\n"
     ]
    },
    {
     "data": {
      "text/html": [
       "<table>\n",
       "    <thead>\n",
       "        <tr>\n",
       "            <th>genre</th>\n",
       "            <th>number_of_tracks</th>\n",
       "            <th>percentage_sold</th>\n",
       "        </tr>\n",
       "    </thead>\n",
       "    <tbody>\n",
       "        <tr>\n",
       "            <td>Rock</td>\n",
       "            <td>561</td>\n",
       "            <td>0.5337773549000951</td>\n",
       "        </tr>\n",
       "        <tr>\n",
       "            <td>Alternative &amp; Punk</td>\n",
       "            <td>130</td>\n",
       "            <td>0.12369172216936251</td>\n",
       "        </tr>\n",
       "        <tr>\n",
       "            <td>Metal</td>\n",
       "            <td>124</td>\n",
       "            <td>0.11798287345385347</td>\n",
       "        </tr>\n",
       "        <tr>\n",
       "            <td>R&amp;B/Soul</td>\n",
       "            <td>53</td>\n",
       "            <td>0.05042816365366318</td>\n",
       "        </tr>\n",
       "        <tr>\n",
       "            <td>Blues</td>\n",
       "            <td>36</td>\n",
       "            <td>0.03425309229305423</td>\n",
       "        </tr>\n",
       "        <tr>\n",
       "            <td>Alternative</td>\n",
       "            <td>35</td>\n",
       "            <td>0.03330161750713606</td>\n",
       "        </tr>\n",
       "        <tr>\n",
       "            <td>Pop</td>\n",
       "            <td>22</td>\n",
       "            <td>0.02093244529019981</td>\n",
       "        </tr>\n",
       "        <tr>\n",
       "            <td>Latin</td>\n",
       "            <td>22</td>\n",
       "            <td>0.02093244529019981</td>\n",
       "        </tr>\n",
       "        <tr>\n",
       "            <td>Hip Hop/Rap</td>\n",
       "            <td>20</td>\n",
       "            <td>0.019029495718363463</td>\n",
       "        </tr>\n",
       "        <tr>\n",
       "            <td>Jazz</td>\n",
       "            <td>14</td>\n",
       "            <td>0.013320647002854425</td>\n",
       "        </tr>\n",
       "        <tr>\n",
       "            <td>Easy Listening</td>\n",
       "            <td>13</td>\n",
       "            <td>0.012369172216936251</td>\n",
       "        </tr>\n",
       "        <tr>\n",
       "            <td>Reggae</td>\n",
       "            <td>6</td>\n",
       "            <td>0.005708848715509039</td>\n",
       "        </tr>\n",
       "        <tr>\n",
       "            <td>Electronica/Dance</td>\n",
       "            <td>5</td>\n",
       "            <td>0.004757373929590866</td>\n",
       "        </tr>\n",
       "        <tr>\n",
       "            <td>Classical</td>\n",
       "            <td>4</td>\n",
       "            <td>0.003805899143672693</td>\n",
       "        </tr>\n",
       "        <tr>\n",
       "            <td>Heavy Metal</td>\n",
       "            <td>3</td>\n",
       "            <td>0.0028544243577545195</td>\n",
       "        </tr>\n",
       "        <tr>\n",
       "            <td>Soundtrack</td>\n",
       "            <td>2</td>\n",
       "            <td>0.0019029495718363464</td>\n",
       "        </tr>\n",
       "        <tr>\n",
       "            <td>TV Shows</td>\n",
       "            <td>1</td>\n",
       "            <td>0.0009514747859181732</td>\n",
       "        </tr>\n",
       "    </tbody>\n",
       "</table>"
      ],
      "text/plain": [
       "[('Rock', 561, 0.5337773549000951),\n",
       " ('Alternative & Punk', 130, 0.12369172216936251),\n",
       " ('Metal', 124, 0.11798287345385347),\n",
       " ('R&B/Soul', 53, 0.05042816365366318),\n",
       " ('Blues', 36, 0.03425309229305423),\n",
       " ('Alternative', 35, 0.03330161750713606),\n",
       " ('Pop', 22, 0.02093244529019981),\n",
       " ('Latin', 22, 0.02093244529019981),\n",
       " ('Hip Hop/Rap', 20, 0.019029495718363463),\n",
       " ('Jazz', 14, 0.013320647002854425),\n",
       " ('Easy Listening', 13, 0.012369172216936251),\n",
       " ('Reggae', 6, 0.005708848715509039),\n",
       " ('Electronica/Dance', 5, 0.004757373929590866),\n",
       " ('Classical', 4, 0.003805899143672693),\n",
       " ('Heavy Metal', 3, 0.0028544243577545195),\n",
       " ('Soundtrack', 2, 0.0019029495718363464),\n",
       " ('TV Shows', 1, 0.0009514747859181732)]"
      ]
     },
     "execution_count": 4,
     "metadata": {},
     "output_type": "execute_result"
    }
   ],
   "source": [
    "%%sql\n",
    "\n",
    "WITH \n",
    "    customer_quantity AS\n",
    "    (\n",
    "    SELECT *\n",
    "    FROM customer c\n",
    "    INNER JOIN invoice i ON c.customer_id = i.customer_id\n",
    "    INNER JOIN invoice_line il ON i.invoice_id = il.invoice_id\n",
    "    WHERE c.country = 'USA'\n",
    "    )\n",
    "    \n",
    "SELECT g.name genre,\n",
    "    COUNT(cq.invoice_line_id) number_of_tracks,\n",
    "    CAST(COUNT(cq.invoice_line_id) AS float) /(\n",
    "        SELECT COUNT(*) FROM customer_quantity\n",
    "    ) percentage_sold\n",
    "    FROM customer_quantity cq \n",
    "    INNER JOIN track t ON cq.track_id = t.track_id\n",
    "    INNER JOIN genre g ON t.genre_id = g.genre_id\n",
    "    GROUP BY genre\n",
    "    ORDER BY 2 DESC;"
   ]
  },
  {
   "cell_type": "markdown",
   "id": "bc46eec7",
   "metadata": {},
   "source": [
    "Rock is clearly the most popular genre, and encompasses more than half, specifically 53%, of all tracks sold.  Next are Alternative & Punk and Metal, which sell 12.4% and 11.8% respectively.  Blues accounts for 3.4% of total sales and Pop accounts for 2.1%.  Lastly, Hip Hop/Rap accounts for 1.9% of the sales.  Based on this data, we should purchase albums from the following artists for the store:\n",
    "* Red Tone- Punk\n",
    "* Slim Jim Bites- Blues\n",
    "* Meteor and the Girls- Pop\n",
    "\n",
    "It is important to keep in mind that all of these genres combined only make up 17% of total sales, so we really should be on the lookout for artists and albums from the Rock genre, as they makeup 53% of sales. "
   ]
  },
  {
   "cell_type": "markdown",
   "id": "fafde2b2",
   "metadata": {},
   "source": [
    "# Employee Sales Performance"
   ]
  },
  {
   "cell_type": "markdown",
   "id": "c62e535c",
   "metadata": {},
   "source": [
    "Every customer for the Chinook store is assigned to a sales support agent within the company when they first make a purchase.  We will now analyze the purchases of customers belonging to each employee to see if any sales support agent is outperforming or underperforming others.  We will do this by writing a query that finds the total dollar amount of sales assigned to each sales support agent.  We will also list their title and hire date.  "
   ]
  },
  {
   "cell_type": "code",
   "execution_count": 5,
   "id": "6f5a5164",
   "metadata": {},
   "outputs": [
    {
     "name": "stdout",
     "output_type": "stream",
     "text": [
      " * sqlite:///chinook.db\n",
      "Done.\n"
     ]
    },
    {
     "data": {
      "text/html": [
       "<table>\n",
       "    <thead>\n",
       "        <tr>\n",
       "            <th>employee_name</th>\n",
       "            <th>total_sales</th>\n",
       "            <th>title</th>\n",
       "            <th>hire_date</th>\n",
       "        </tr>\n",
       "    </thead>\n",
       "    <tbody>\n",
       "        <tr>\n",
       "            <td>Peacock, Jane</td>\n",
       "            <td>1731.51</td>\n",
       "            <td>Sales Support Agent</td>\n",
       "            <td>2017-04-01 00:00:00</td>\n",
       "        </tr>\n",
       "        <tr>\n",
       "            <td>Park, Margaret</td>\n",
       "            <td>1584.0</td>\n",
       "            <td>Sales Support Agent</td>\n",
       "            <td>2017-05-03 00:00:00</td>\n",
       "        </tr>\n",
       "        <tr>\n",
       "            <td>Johnson, Steve</td>\n",
       "            <td>1393.92</td>\n",
       "            <td>Sales Support Agent</td>\n",
       "            <td>2017-10-17 00:00:00</td>\n",
       "        </tr>\n",
       "    </tbody>\n",
       "</table>"
      ],
      "text/plain": [
       "[('Peacock, Jane', 1731.51, 'Sales Support Agent', '2017-04-01 00:00:00'),\n",
       " ('Park, Margaret', 1584.0, 'Sales Support Agent', '2017-05-03 00:00:00'),\n",
       " ('Johnson, Steve', 1393.92, 'Sales Support Agent', '2017-10-17 00:00:00')]"
      ]
     },
     "execution_count": 5,
     "metadata": {},
     "output_type": "execute_result"
    }
   ],
   "source": [
    "%%sql\n",
    "\n",
    "WITH customer_total AS\n",
    "    (\n",
    "    SELECT SUM(i.total) total,\n",
    "    i.customer_id,\n",
    "    c.customer_id,\n",
    "    c.support_rep_id    \n",
    "    FROM customer c\n",
    "    INNER JOIN invoice i ON c.customer_id = i.customer_id\n",
    "    GROUP BY support_rep_id\n",
    "    )\n",
    "    \n",
    "SELECT e.last_name || ', ' || e.first_name employee_name,\n",
    "    ROUND(SUM(ct.total), 2) total_sales,\n",
    "    e.title title,\n",
    "    e.hire_date hire_date\n",
    "    FROM employee e \n",
    "    INNER JOIN customer_total ct ON ct.support_rep_id = e.employee_id\n",
    "    GROUP BY 1\n",
    "    ORDER BY 2 DESC;"
   ]
  },
  {
   "cell_type": "markdown",
   "id": "63fdb265",
   "metadata": {},
   "source": [
    "Based on our results, Jane Peacock has the highest amount of sales, \\\\$1731.51, followed by Margaret Park with \\\\$1584.00 and Steven Johnson with \\\\$1393.92.  Jane has generated \\\\$337.59 more in sales than Steven, which is about 20%.  All of the employees are Sales Support Agents, so there should be no differences in sales due to titles.  What does contribute to the higher sales for Jane compared to the others is that her hire date was in April of 2017 while Margaret's was May and Steven's was October of 2017.  Because Jane has had more experience and time to help customers generate sales, this could largely be the reason why she has the most sales.  "
   ]
  },
  {
   "cell_type": "markdown",
   "id": "da48c6a8",
   "metadata": {},
   "source": [
    "# Analyzing Sales by Country"
   ]
  },
  {
   "cell_type": "markdown",
   "id": "22e07470",
   "metadata": {},
   "source": [
    "Our next task is to analyze the sales data for customers from each different country.  We will use the country value from the `customers` table, and ignore the country from the billing address in the `invoice` table.  We will calculate the following data:\n",
    "* total number of customers\n",
    "* total value of sales\n",
    "* average value of sales per customer\n",
    "* average order value\n",
    "\n",
    "When a country has only one customer, we will put that country into an \"Other\" group.  "
   ]
  },
  {
   "cell_type": "code",
   "execution_count": 6,
   "id": "54cc19a8",
   "metadata": {},
   "outputs": [
    {
     "name": "stdout",
     "output_type": "stream",
     "text": [
      " * sqlite:///chinook.db\n",
      "Done.\n"
     ]
    },
    {
     "data": {
      "text/html": [
       "<table>\n",
       "    <thead>\n",
       "        <tr>\n",
       "            <th>country</th>\n",
       "            <th>total_customers</th>\n",
       "            <th>total_sales</th>\n",
       "            <th>avg_sales_per_customer</th>\n",
       "            <th>avg_order_value</th>\n",
       "        </tr>\n",
       "    </thead>\n",
       "    <tbody>\n",
       "        <tr>\n",
       "            <td>USA</td>\n",
       "            <td>13</td>\n",
       "            <td>1040.49</td>\n",
       "            <td>80.04</td>\n",
       "            <td>7.94</td>\n",
       "        </tr>\n",
       "        <tr>\n",
       "            <td>Canada</td>\n",
       "            <td>8</td>\n",
       "            <td>535.59</td>\n",
       "            <td>66.95</td>\n",
       "            <td>7.05</td>\n",
       "        </tr>\n",
       "        <tr>\n",
       "            <td>Brazil</td>\n",
       "            <td>5</td>\n",
       "            <td>427.68</td>\n",
       "            <td>85.54</td>\n",
       "            <td>7.01</td>\n",
       "        </tr>\n",
       "        <tr>\n",
       "            <td>France</td>\n",
       "            <td>5</td>\n",
       "            <td>389.07</td>\n",
       "            <td>77.81</td>\n",
       "            <td>7.78</td>\n",
       "        </tr>\n",
       "        <tr>\n",
       "            <td>Germany</td>\n",
       "            <td>4</td>\n",
       "            <td>334.62</td>\n",
       "            <td>83.66</td>\n",
       "            <td>8.16</td>\n",
       "        </tr>\n",
       "        <tr>\n",
       "            <td>Czech Republic</td>\n",
       "            <td>2</td>\n",
       "            <td>273.24</td>\n",
       "            <td>136.62</td>\n",
       "            <td>9.11</td>\n",
       "        </tr>\n",
       "        <tr>\n",
       "            <td>United Kingdom</td>\n",
       "            <td>3</td>\n",
       "            <td>245.52</td>\n",
       "            <td>81.84</td>\n",
       "            <td>8.77</td>\n",
       "        </tr>\n",
       "        <tr>\n",
       "            <td>Portugal</td>\n",
       "            <td>2</td>\n",
       "            <td>185.13</td>\n",
       "            <td>92.57</td>\n",
       "            <td>6.38</td>\n",
       "        </tr>\n",
       "        <tr>\n",
       "            <td>India</td>\n",
       "            <td>2</td>\n",
       "            <td>183.15</td>\n",
       "            <td>91.58</td>\n",
       "            <td>8.72</td>\n",
       "        </tr>\n",
       "        <tr>\n",
       "            <td>Other</td>\n",
       "            <td>15</td>\n",
       "            <td>1094.94</td>\n",
       "            <td>73.0</td>\n",
       "            <td>7.45</td>\n",
       "        </tr>\n",
       "    </tbody>\n",
       "</table>"
      ],
      "text/plain": [
       "[('USA', 13, 1040.49, 80.04, 7.94),\n",
       " ('Canada', 8, 535.59, 66.95, 7.05),\n",
       " ('Brazil', 5, 427.68, 85.54, 7.01),\n",
       " ('France', 5, 389.07, 77.81, 7.78),\n",
       " ('Germany', 4, 334.62, 83.66, 8.16),\n",
       " ('Czech Republic', 2, 273.24, 136.62, 9.11),\n",
       " ('United Kingdom', 3, 245.52, 81.84, 8.77),\n",
       " ('Portugal', 2, 185.13, 92.57, 6.38),\n",
       " ('India', 2, 183.15, 91.58, 8.72),\n",
       " ('Other', 15, 1094.94, 73.0, 7.45)]"
      ]
     },
     "execution_count": 6,
     "metadata": {},
     "output_type": "execute_result"
    }
   ],
   "source": [
    "%%sql\n",
    "\n",
    "WITH country_other AS\n",
    "    (\n",
    "    SELECT\n",
    "        CASE\n",
    "            WHEN(\n",
    "                SELECT count(*)\n",
    "                 FROM customer\n",
    "                 where country = c.country\n",
    "                ) = 1 THEN 'Other'\n",
    "            ELSE c.country\n",
    "        END AS country,\n",
    "        c.customer_id,\n",
    "        il.*\n",
    "        FROM customer c\n",
    "        INNER JOIN invoice i ON c.customer_id = i.customer_id\n",
    "        INNER JOIN invoice_line il ON i.invoice_id = il.invoice_id\n",
    "        )\n",
    "SELECT \n",
    "    country,\n",
    "    total_customers,\n",
    "    total_sales,\n",
    "    avg_sales_per_customer,\n",
    "    avg_order_value\n",
    "FROM\n",
    "    (\n",
    "    SELECT \n",
    "        country,\n",
    "        COUNT(distinct customer_id) total_customers,\n",
    "        ROUND(SUM(unit_price), 2) total_sales,\n",
    "        ROUND(SUM(unit_price) / count(distinct customer_id), 2) avg_sales_per_customer,\n",
    "        ROUND(SUM(unit_price) / count(distinct invoice_id), 2) avg_order_value,\n",
    "        CASE\n",
    "            WHEN country = 'Other' THEN 1\n",
    "            ELSE 0\n",
    "        END AS sort\n",
    "        FROM country_other \n",
    "        GROUP BY country\n",
    "        ORDER BY sort ASC, total_sales DESC\n",
    "        );"
   ]
  },
  {
   "cell_type": "markdown",
   "id": "00efe30b",
   "metadata": {},
   "source": [
    "The data shows that most of the sales and customers originate from USA, which accounts for 13 customers, \\\\$1040.49 in total sales, \\\\$80.04 in average sales per customer, and a \\\\$7.94 average order value.  The next country, Canada, has 8 total customers and about half the total number of sales, \\\\$535.59.  Next is Brazil wth 6 total customers and \\\\$427.68 in sales.  India is the last country shown with 2 customers and \\\\$183.15 in sales.  There are 15 countries where there is only one customer with a total amount of sales at \\\\$1094.94.  It is clear that the USA is the most profitable out of all of the countries, yet all 15 of the \"Other\" countries generate slightly higher sales than the USA, so they are important.  \n",
    "\n",
    "Also, there may be opportunity in the following countries:\n",
    "* Czech Republic\n",
    "* United Kingdom\n",
    "* India\n",
    "\n",
    "The average sales per customer for these countries is the highest, especially the Czech Republic.  It is worth keeping in mind that because the amount of data from each of these countries is relatively low, we have to be cautious about spending too much money on new marketing campaigns.  We would need a larger sample size to give us higher confidence.  A better approach might be to run small campaigns in these countries to collect and analyze the new customers.  This way we can see if these trends hold true with the new customers.  \n",
    "\n"
   ]
  },
  {
   "cell_type": "markdown",
   "id": "019ee89c",
   "metadata": {},
   "source": [
    "# Album vs Individual Tracks"
   ]
  },
  {
   "cell_type": "markdown",
   "id": "4fce5ead",
   "metadata": {},
   "source": [
    "The Chinook store is set up in a way that allows customers to puchase in one of two ways:\n",
    "* purchase an entire album\n",
    "* puchase a collection of one or more individual tracks\n",
    "\n",
    "The store does not allow customers to puchase an album and then add individual tracks to the same purchase, but they can choose the album by purchasing all tracks separately.  When customers purchase albums, they are charged the same price as if they had purchased each of those tracks separately.  \n",
    "\n",
    "Management is currently considering changing their purchasing strategy to save money.  The strategy they are considering is to puchase only the most popular tracks from each album from record companies, instead of purchasing eery track from an album.  \n",
    "\n",
    "We will find out hwat percentage of puchases are indvidual vs entire albums, so management can use this datat to understand the effect this decision might have on overall revenue.  "
   ]
  },
  {
   "cell_type": "code",
   "execution_count": 7,
   "id": "0b5b08b7",
   "metadata": {},
   "outputs": [
    {
     "name": "stdout",
     "output_type": "stream",
     "text": [
      " * sqlite:///chinook.db\n",
      "Done.\n"
     ]
    },
    {
     "data": {
      "text/html": [
       "<table>\n",
       "    <thead>\n",
       "        <tr>\n",
       "            <th>album_purchase</th>\n",
       "            <th>number_of_invoices</th>\n",
       "            <th>percent_of_invoices</th>\n",
       "        </tr>\n",
       "    </thead>\n",
       "    <tbody>\n",
       "        <tr>\n",
       "            <td>no</td>\n",
       "            <td>500</td>\n",
       "            <td>0.8143322475570033</td>\n",
       "        </tr>\n",
       "        <tr>\n",
       "            <td>yes</td>\n",
       "            <td>114</td>\n",
       "            <td>0.18566775244299674</td>\n",
       "        </tr>\n",
       "    </tbody>\n",
       "</table>"
      ],
      "text/plain": [
       "[('no', 500, 0.8143322475570033), ('yes', 114, 0.18566775244299674)]"
      ]
     },
     "execution_count": 7,
     "metadata": {},
     "output_type": "execute_result"
    }
   ],
   "source": [
    "%%sql\n",
    "\n",
    "WITH invoice_first_track AS\n",
    "    (\n",
    "     SELECT\n",
    "         il.invoice_id invoice_id,\n",
    "         MIN(il.track_id) first_track_id\n",
    "     FROM invoice_line il\n",
    "     GROUP BY invoice_id\n",
    "    )\n",
    "\n",
    "SELECT\n",
    "    album_purchase,\n",
    "    COUNT(invoice_id) number_of_invoices,\n",
    "    CAST(count(invoice_id) AS FLOAT) / (\n",
    "                                         SELECT COUNT(*) FROM invoice\n",
    "                                      ) percent_of_invoices\n",
    "FROM\n",
    "    (\n",
    "    SELECT\n",
    "        ifs.*,\n",
    "        CASE\n",
    "            WHEN\n",
    "                 (\n",
    "                  SELECT t.track_id FROM track t\n",
    "                  WHERE t.album_id = (\n",
    "                                      SELECT t2.album_id FROM track t2\n",
    "                                      WHERE t2.track_id = ifs.first_track_id\n",
    "                                     ) \n",
    "\n",
    "                  EXCEPT \n",
    "\n",
    "                  SELECT il2.track_id FROM invoice_line il2\n",
    "                  WHERE il2.invoice_id = ifs.invoice_id\n",
    "                 ) IS NULL\n",
    "             AND\n",
    "                 (\n",
    "                  SELECT il2.track_id FROM invoice_line il2\n",
    "                  WHERE il2.invoice_id = ifs.invoice_id\n",
    "\n",
    "                  EXCEPT \n",
    "\n",
    "                  SELECT t.track_id FROM track t\n",
    "                  WHERE t.album_id = (\n",
    "                                      SELECT t2.album_id FROM track t2\n",
    "                                      WHERE t2.track_id = ifs.first_track_id\n",
    "                                     ) \n",
    "                 ) IS NULL\n",
    "             THEN \"yes\"\n",
    "             ELSE \"no\"\n",
    "         END AS \"album_purchase\"\n",
    "     FROM invoice_first_track ifs\n",
    "    )\n",
    "GROUP BY album_purchase;"
   ]
  },
  {
   "cell_type": "markdown",
   "id": "9073ce49",
   "metadata": {},
   "source": [
    "Album purchases account for 18.6% of the purchases, while single track purchases account for 81.4% of purchases.  Based on this data, it would not be wise to purchase only select tracks from albums from record companies as there is potential to lose 1/5 of revenue.  "
   ]
  },
  {
   "cell_type": "markdown",
   "id": "e7955ec5",
   "metadata": {},
   "source": [
    "## Most Popular Artists"
   ]
  },
  {
   "cell_type": "markdown",
   "id": "12be5dfc",
   "metadata": {},
   "source": [
    "Next, we will explore which artist is used in the most playlists.  This type of knowledge would benefit the advertising and promotions departments, allowing them to attract more customers.  "
   ]
  },
  {
   "cell_type": "code",
   "execution_count": 8,
   "id": "76eed1f4",
   "metadata": {},
   "outputs": [
    {
     "name": "stdout",
     "output_type": "stream",
     "text": [
      " * sqlite:///chinook.db\n",
      "Done.\n"
     ]
    },
    {
     "data": {
      "text/html": [
       "<table>\n",
       "    <thead>\n",
       "        <tr>\n",
       "            <th>artist_name</th>\n",
       "            <th>number_of_playlists</th>\n",
       "        </tr>\n",
       "    </thead>\n",
       "    <tbody>\n",
       "        <tr>\n",
       "            <td>Iron Maiden</td>\n",
       "            <td>209</td>\n",
       "        </tr>\n",
       "        <tr>\n",
       "            <td>Led Zeppelin</td>\n",
       "            <td>136</td>\n",
       "        </tr>\n",
       "        <tr>\n",
       "            <td>Deep Purple</td>\n",
       "            <td>134</td>\n",
       "        </tr>\n",
       "        <tr>\n",
       "            <td>Metallica</td>\n",
       "            <td>112</td>\n",
       "        </tr>\n",
       "        <tr>\n",
       "            <td>U2</td>\n",
       "            <td>106</td>\n",
       "        </tr>\n",
       "        <tr>\n",
       "            <td>Ozzy Osbourne</td>\n",
       "            <td>84</td>\n",
       "        </tr>\n",
       "        <tr>\n",
       "            <td>Pearl Jam</td>\n",
       "            <td>70</td>\n",
       "        </tr>\n",
       "        <tr>\n",
       "            <td>Accept</td>\n",
       "            <td>57</td>\n",
       "        </tr>\n",
       "        <tr>\n",
       "            <td>AC/DC</td>\n",
       "            <td>57</td>\n",
       "        </tr>\n",
       "        <tr>\n",
       "            <td>Various Artists</td>\n",
       "            <td>56</td>\n",
       "        </tr>\n",
       "    </tbody>\n",
       "</table>"
      ],
      "text/plain": [
       "[('Iron Maiden', 209),\n",
       " ('Led Zeppelin', 136),\n",
       " ('Deep Purple', 134),\n",
       " ('Metallica', 112),\n",
       " ('U2', 106),\n",
       " ('Ozzy Osbourne', 84),\n",
       " ('Pearl Jam', 70),\n",
       " ('Accept', 57),\n",
       " ('AC/DC', 57),\n",
       " ('Various Artists', 56)]"
      ]
     },
     "execution_count": 8,
     "metadata": {},
     "output_type": "execute_result"
    }
   ],
   "source": [
    "%%sql\n",
    "\n",
    "WITH artist_playlist AS\n",
    "    (\n",
    "    SELECT ar.*,\n",
    "       al.artist_id,\n",
    "       t.album_id,\n",
    "       t.track_id,\n",
    "       p.*\n",
    "    FROM artist ar \n",
    "    INNER JOIN album al ON ar.artist_id = al.artist_id\n",
    "    INNER JOIN track t ON al.album_id = t.track_id\n",
    "    INNER JOIN playlist_track p ON t.track_id = p.track_id\n",
    "    )\n",
    "    \n",
    "SELECT ap.name artist_name,\n",
    "        SUM(ap.playlist_id) number_of_playlists\n",
    "    FROM artist_playlist ap\n",
    "    GROUP BY 1\n",
    "    ORDER BY 2 DESC\n",
    "    LIMIT 10;"
   ]
  },
  {
   "cell_type": "markdown",
   "id": "541284a3",
   "metadata": {},
   "source": [
    "Iron Maiden is clearly the top artist, who is featured in 209 playlists.  Next would be Led Zeppelin and Deep Purple with 136 and 134 playlists repectively.  It would be beneficial to advertise these artists more in order to generate more sales.  "
   ]
  }
 ],
 "metadata": {
  "kernelspec": {
   "display_name": "Python 3 (ipykernel)",
   "language": "python",
   "name": "python3"
  },
  "language_info": {
   "codemirror_mode": {
    "name": "ipython",
    "version": 3
   },
   "file_extension": ".py",
   "mimetype": "text/x-python",
   "name": "python",
   "nbconvert_exporter": "python",
   "pygments_lexer": "ipython3",
   "version": "3.9.12"
  }
 },
 "nbformat": 4,
 "nbformat_minor": 5
}
